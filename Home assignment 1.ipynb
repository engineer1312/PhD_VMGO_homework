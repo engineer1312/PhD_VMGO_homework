{
 "cells": [
  {
   "cell_type": "markdown",
   "metadata": {},
   "source": [
    "# Matematika v raziskovanju grajenega okolja: Home assignment 1"
   ]
  },
  {
   "cell_type": "markdown",
   "metadata": {},
   "source": [
    "## Task 1"
   ]
  },
  {
   "cell_type": "markdown",
   "metadata": {},
   "source": [
    "This task was calculated in Mathematica and is therefore just pasted here"
   ]
  },
  {
   "cell_type": "markdown",
   "metadata": {},
   "source": [
    "### (a) Truth table of the logical function $f(p,q,r)$"
   ]
  },
  {
   "cell_type": "markdown",
   "metadata": {},
   "source": [
    "In\n",
    "\n",
    "![1](1.png)"
   ]
  },
  {
   "cell_type": "markdown",
   "metadata": {},
   "source": [
    "Out\n",
    "\n",
    "![2](2.png)\n",
    "![3](3.png)"
   ]
  },
  {
   "cell_type": "markdown",
   "metadata": {},
   "source": [
    "### (b) DNF and CNF of the function $f(p,q,r)$"
   ]
  },
  {
   "cell_type": "markdown",
   "metadata": {},
   "source": [
    "In\n",
    "\n",
    "![4](4.png)\n",
    "![5](5.png)"
   ]
  },
  {
   "cell_type": "markdown",
   "metadata": {},
   "source": [
    "Out\n",
    "\n",
    "![6](6.png)\n",
    "![7](7.png)"
   ]
  },
  {
   "cell_type": "markdown",
   "metadata": {},
   "source": [
    "## Task 2"
   ]
  },
  {
   "cell_type": "markdown",
   "metadata": {},
   "source": [
    "### (a) Jordan canonical form $J$ of $A$ and a change of basis matrix $P$\n"
   ]
  },
  {
   "cell_type": "code",
   "execution_count": 14,
   "metadata": {},
   "outputs": [
    {
     "name": "stdout",
     "output_type": "stream",
     "text": [
      "Matrix([[1, 1, 1], [2, 0, 1], [-1, 0, 0]])\n",
      "Matrix([[1, 1, 0], [0, 1, 0], [0, 0, 1]])\n"
     ]
    }
   ],
   "source": [
    "import sympy\n",
    "from sympy import Matrix\n",
    "from sympy import symbols\n",
    "from sympy import factor\n",
    "from sympy import eye\n",
    "\n",
    "A=Matrix([[2,-1,-1],[2,-1,-2],[-1,1,2]])\n",
    "P, J = A.jordan_form()\n",
    "print(P)\n",
    "print(J)"
   ]
  },
  {
   "cell_type": "markdown",
   "metadata": {},
   "source": [
    "### (b) $A^{n}$ for each $n$ $\\geq$ $1$"
   ]
  },
  {
   "cell_type": "code",
   "execution_count": 2,
   "metadata": {},
   "outputs": [
    {
     "name": "stdout",
     "output_type": "stream",
     "text": [
      "Matrix([[n + 1, -n, -n], [2*n, 1 - 2*n, -2*n], [-n, n, n + 1]])\n"
     ]
    }
   ],
   "source": [
    "n=symbols('n')\n",
    "print(A**n)"
   ]
  },
  {
   "cell_type": "markdown",
   "metadata": {},
   "source": [
    "### (c) $e^{At}$ calculation and solving the initial value problem"
   ]
  },
  {
   "cell_type": "code",
   "execution_count": 3,
   "metadata": {},
   "outputs": [
    {
     "name": "stdout",
     "output_type": "stream",
     "text": [
      "Matrix([[(t + 1)*exp(t), -t*exp(t), -t*exp(t)], [2*t*exp(t), (1 - 2*t)*exp(t), -2*t*exp(t)], [-t*exp(t), t*exp(t), (t + 1)*exp(t)]])\n"
     ]
    }
   ],
   "source": [
    "t=symbols('t')\n",
    "f_t=sympy.exp(A*t)\n",
    "print(sympy.simplify(f_t))"
   ]
  },
  {
   "cell_type": "code",
   "execution_count": 4,
   "metadata": {},
   "outputs": [
    {
     "name": "stdout",
     "output_type": "stream",
     "text": [
      "Matrix([[(t + 1)*exp(t)], [2*t*exp(t)], [-t*exp(t)]])\n"
     ]
    }
   ],
   "source": [
    "x0_t=Matrix([[1],[0],[0]])\n",
    "x_t=f_t*x0_t\n",
    "print(sympy.simplify(x_t))"
   ]
  },
  {
   "cell_type": "markdown",
   "metadata": {},
   "source": [
    "## Task 3"
   ]
  },
  {
   "cell_type": "markdown",
   "metadata": {},
   "source": [
    "### (a) Jordan canonical form $J$ of $A$ and a change of basis matrix $P$\n"
   ]
  },
  {
   "cell_type": "code",
   "execution_count": 5,
   "metadata": {},
   "outputs": [
    {
     "name": "stdout",
     "output_type": "stream",
     "text": [
      "Matrix([[0, 0, 1, 0], [1, 1, 0, 2], [0, 1, 0, 1], [1, 0, 0, 0]])\n",
      "Matrix([[1, 1, 0, 0], [0, 1, 1, 0], [0, 0, 1, 0], [0, 0, 0, 1]])\n"
     ]
    }
   ],
   "source": [
    "A=Matrix([[1,0,0,0],[1,0,2,1],[1,0,1,0],[0,-1,2,2]])\n",
    "P, J = A.jordan_form()\n",
    "print(P)\n",
    "print(J)"
   ]
  },
  {
   "cell_type": "markdown",
   "metadata": {},
   "source": [
    "### (b) Minimal polnomial $m(x)$ of $A$"
   ]
  },
  {
   "cell_type": "code",
   "execution_count": 6,
   "metadata": {},
   "outputs": [
    {
     "name": "stdout",
     "output_type": "stream",
     "text": [
      "(lamda - 1)**4\n"
     ]
    }
   ],
   "source": [
    "lamda = symbols('lamda')\n",
    "p = J.charpoly(lamda)\n",
    "print(factor(p))"
   ]
  },
  {
   "cell_type": "code",
   "execution_count": 7,
   "metadata": {},
   "outputs": [
    {
     "name": "stdout",
     "output_type": "stream",
     "text": [
      "Matrix([[0, 0, 0, 0], [1, 0, 0, 0], [0, 0, 0, 0], [1, 0, 0, 0]])\n",
      "Matrix([[0, 0, 0, 0], [0, 0, 0, 0], [0, 0, 0, 0], [0, 0, 0, 0]])\n"
     ]
    }
   ],
   "source": [
    "print((A-eye(4))**2)\n",
    "print((A-eye(4))**3)"
   ]
  },
  {
   "cell_type": "code",
   "execution_count": 8,
   "metadata": {},
   "outputs": [
    {
     "name": "stdout",
     "output_type": "stream",
     "text": [
      "(lamda - 1)**4\n"
     ]
    }
   ],
   "source": [
    "p = A.charpoly(lamda)\n",
    "print(factor(p))"
   ]
  },
  {
   "cell_type": "code",
   "execution_count": 9,
   "metadata": {},
   "outputs": [
    {
     "name": "stdout",
     "output_type": "stream",
     "text": [
      "Matrix([[0, 0, 0, 0], [1, 0, 0, 0], [0, 0, 0, 0], [1, 0, 0, 0]])\n",
      "Matrix([[0, 0, 0, 0], [0, 0, 0, 0], [0, 0, 0, 0], [0, 0, 0, 0]])\n"
     ]
    }
   ],
   "source": [
    "print((A-eye(4))**2)\n",
    "print((A-eye(4))**3)"
   ]
  },
  {
   "cell_type": "markdown",
   "metadata": {},
   "source": [
    "### (c) $e^{At}$ calculation and solving the initial value problem"
   ]
  },
  {
   "cell_type": "code",
   "execution_count": 10,
   "metadata": {},
   "outputs": [
    {
     "name": "stdout",
     "output_type": "stream",
     "text": [
      "Matrix([[exp(t), 0, 0, 0], [t*(t + 2)*exp(t)/2, (1 - t)*exp(t), 2*t*exp(t), t*exp(t)], [t*exp(t), 0, exp(t), 0], [t**2*exp(t)/2, -t*exp(t), 2*t*exp(t), (t + 1)*exp(t)]])\n"
     ]
    }
   ],
   "source": [
    "t=symbols('t')\n",
    "f_t=sympy.exp(A*t)\n",
    "print(sympy.simplify(f_t))"
   ]
  },
  {
   "cell_type": "code",
   "execution_count": 11,
   "metadata": {},
   "outputs": [
    {
     "name": "stdout",
     "output_type": "stream",
     "text": [
      "Matrix([[exp(t)], [t*(t + 4)*exp(t)/2], [t*exp(t)], [(t**2/2 + t + 1)*exp(t)]])\n"
     ]
    }
   ],
   "source": [
    "x0_t=Matrix([[1],[0],[0],[1]])\n",
    "x_t=f_t*x0_t\n",
    "print(sympy.simplify(x_t))"
   ]
  }
 ],
 "metadata": {
  "kernelspec": {
   "display_name": "Python 3",
   "language": "python",
   "name": "python3"
  },
  "language_info": {
   "codemirror_mode": {
    "name": "ipython",
    "version": 3
   },
   "file_extension": ".py",
   "mimetype": "text/x-python",
   "name": "python",
   "nbconvert_exporter": "python",
   "pygments_lexer": "ipython3",
   "version": "3.7.6"
  }
 },
 "nbformat": 4,
 "nbformat_minor": 4
}
