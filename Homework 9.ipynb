{
 "cells": [
  {
   "cell_type": "markdown",
   "metadata": {},
   "source": [
    "# ANOVA"
   ]
  },
  {
   "cell_type": "markdown",
   "metadata": {},
   "source": [
    "Initial commands"
   ]
  },
  {
   "cell_type": "code",
   "execution_count": 1,
   "metadata": {},
   "outputs": [],
   "source": [
    "import pandas as pd\n",
    "import numpy as np\n",
    "import matplotlib.pyplot as plt\n",
    "from IPython.display import set_matplotlib_formats\n",
    "set_matplotlib_formats('png', 'pdf') #setting figure format to vector when exported\n",
    "plt.rcParams['font.family'] = 'Times New Roman'\n",
    "plt.rcParams['text.usetex'] = True\n",
    "from scipy.stats import f\n",
    "from scipy.stats import f_oneway\n",
    "from scipy.special import binom\n",
    "from scipy.stats import ttest_ind\n",
    "from itertools import combinations "
   ]
  },
  {
   "cell_type": "markdown",
   "metadata": {},
   "source": [
    "Reading data"
   ]
  },
  {
   "cell_type": "code",
   "execution_count": 2,
   "metadata": {},
   "outputs": [
    {
     "data": {
      "text/html": [
       "<div>\n",
       "<style scoped>\n",
       "    .dataframe tbody tr th:only-of-type {\n",
       "        vertical-align: middle;\n",
       "    }\n",
       "\n",
       "    .dataframe tbody tr th {\n",
       "        vertical-align: top;\n",
       "    }\n",
       "\n",
       "    .dataframe thead th {\n",
       "        text-align: right;\n",
       "    }\n",
       "</style>\n",
       "<table border=\"1\" class=\"dataframe\">\n",
       "  <thead>\n",
       "    <tr style=\"text-align: right;\">\n",
       "      <th></th>\n",
       "      <th>5%</th>\n",
       "      <th>10%</th>\n",
       "      <th>15%</th>\n",
       "      <th>20%</th>\n",
       "    </tr>\n",
       "  </thead>\n",
       "  <tbody>\n",
       "    <tr>\n",
       "      <th>0</th>\n",
       "      <td>48</td>\n",
       "      <td>83</td>\n",
       "      <td>97.0</td>\n",
       "      <td>131</td>\n",
       "    </tr>\n",
       "    <tr>\n",
       "      <th>1</th>\n",
       "      <td>55</td>\n",
       "      <td>117</td>\n",
       "      <td>124.0</td>\n",
       "      <td>172</td>\n",
       "    </tr>\n",
       "    <tr>\n",
       "      <th>2</th>\n",
       "      <td>103</td>\n",
       "      <td>90</td>\n",
       "      <td>128.0</td>\n",
       "      <td>152</td>\n",
       "    </tr>\n",
       "    <tr>\n",
       "      <th>3</th>\n",
       "      <td>76</td>\n",
       "      <td>123</td>\n",
       "      <td>119.0</td>\n",
       "      <td>158</td>\n",
       "    </tr>\n",
       "    <tr>\n",
       "      <th>4</th>\n",
       "      <td>62</td>\n",
       "      <td>133</td>\n",
       "      <td>110.0</td>\n",
       "      <td>126</td>\n",
       "    </tr>\n",
       "    <tr>\n",
       "      <th>5</th>\n",
       "      <td>69</td>\n",
       "      <td>103</td>\n",
       "      <td>NaN</td>\n",
       "      <td>138</td>\n",
       "    </tr>\n",
       "  </tbody>\n",
       "</table>\n",
       "</div>"
      ],
      "text/plain": [
       "    5%  10%    15%  20%\n",
       "0   48   83   97.0  131\n",
       "1   55  117  124.0  172\n",
       "2  103   90  128.0  152\n",
       "3   76  123  119.0  158\n",
       "4   62  133  110.0  126\n",
       "5   69  103    NaN  138"
      ]
     },
     "metadata": {},
     "output_type": "display_data"
    }
   ],
   "source": [
    "data=pd.DataFrame({'5%':[48,55,103,76,62,69],'10%':[83,117,90,123,133,103],'15%':[97,124,128,119,110,np.nan],'20%':[131,172,152,158,126,138]},columns=['5%','10%','15%','20%'])\n",
    "display(data)\n",
    "alpha=0.05 #significance level"
   ]
  },
  {
   "cell_type": "markdown",
   "metadata": {},
   "source": [
    "Hypothesis:\n",
    "\n",
    "H0: Wood fibre concentration does not influence the tensile strength of the paper\n",
    "\n",
    "H1: Wood fibre concentration influences the tensile strength of the paper"
   ]
  },
  {
   "cell_type": "markdown",
   "metadata": {},
   "source": [
    "## A-priori ANOVA"
   ]
  },
  {
   "cell_type": "markdown",
   "metadata": {},
   "source": [
    "Calculating averages and summed squares"
   ]
  },
  {
   "cell_type": "code",
   "execution_count": 3,
   "metadata": {},
   "outputs": [
    {
     "data": {
      "text/html": [
       "<div>\n",
       "<style scoped>\n",
       "    .dataframe tbody tr th:only-of-type {\n",
       "        vertical-align: middle;\n",
       "    }\n",
       "\n",
       "    .dataframe tbody tr th {\n",
       "        vertical-align: top;\n",
       "    }\n",
       "\n",
       "    .dataframe thead th {\n",
       "        text-align: right;\n",
       "    }\n",
       "</style>\n",
       "<table border=\"1\" class=\"dataframe\">\n",
       "  <thead>\n",
       "    <tr style=\"text-align: right;\">\n",
       "      <th></th>\n",
       "      <th>Yi_</th>\n",
       "    </tr>\n",
       "  </thead>\n",
       "  <tbody>\n",
       "    <tr>\n",
       "      <th>5%</th>\n",
       "      <td>68.833333</td>\n",
       "    </tr>\n",
       "    <tr>\n",
       "      <th>10%</th>\n",
       "      <td>108.166667</td>\n",
       "    </tr>\n",
       "    <tr>\n",
       "      <th>15%</th>\n",
       "      <td>115.600000</td>\n",
       "    </tr>\n",
       "    <tr>\n",
       "      <th>20%</th>\n",
       "      <td>146.166667</td>\n",
       "    </tr>\n",
       "  </tbody>\n",
       "</table>\n",
       "</div>"
      ],
      "text/plain": [
       "            Yi_\n",
       "5%    68.833333\n",
       "10%  108.166667\n",
       "15%  115.600000\n",
       "20%  146.166667"
      ]
     },
     "metadata": {},
     "output_type": "display_data"
    },
    {
     "name": "stdout",
     "output_type": "stream",
     "text": [
      "Value of SST is 24141.170\n",
      "Number of degrees of freedom T is 22\n",
      "Value of SSA is 18187.470\n",
      "Number of degrees of freedom A is 3\n",
      "Value of SSE is 5953.700\n",
      "Number of degrees of freedom E is 19\n",
      "True\n",
      "True\n"
     ]
    }
   ],
   "source": [
    "MEAN=data.mean() #mean of separate classes\n",
    "display(pd.DataFrame(MEAN,columns=['Yi_']))\n",
    "Y_=MEAN.mean() #overall mean\n",
    "\n",
    "#total sum of squares\n",
    "SST=0\n",
    "npsT=0\n",
    "for i in range(data.shape[0]):\n",
    "    SSTi=0\n",
    "    for j in range(data.shape[1]):\n",
    "        if pd.isna(data.iloc[i,j]):\n",
    "            #print('value in data.iloc['+str(i)+','+str(j)+'] is nan')\n",
    "            continue\n",
    "        SSTi=SSTi+(data.iloc[i,j]-Y_)**2\n",
    "        npsT=npsT+1\n",
    "    SST=SST+SSTi\n",
    "npsT=npsT-1\n",
    "print('Value of SST is {:.3f}'.format(SST))\n",
    "print('Number of degrees of freedom T is {:.0f}'.format(npsT))\n",
    "\n",
    "#sum of squares between classes\n",
    "SSA=0\n",
    "npsA=0\n",
    "for i in range(data.shape[0]):\n",
    "    SSAi=0\n",
    "    for j in range(data.shape[1]):\n",
    "        if pd.isna(data.iloc[i,j]):\n",
    "            #print('value in data.iloc['+str(i)+','+str(j)+'] is nan')\n",
    "            continue\n",
    "        SSAi=SSAi+(MEAN[j]-Y_)**2\n",
    "    SSA=SSA+SSAi\n",
    "npsA=data.shape[1]-1\n",
    "print('Value of SSA is {:.3f}'.format(SSA))\n",
    "print('Number of degrees of freedom A is {:.0f}'.format(npsA))\n",
    "\n",
    "#sum of squares within classes\n",
    "SSE=0\n",
    "npsE=0\n",
    "for i in range(data.shape[0]):\n",
    "    SSEi=0\n",
    "    for j in range(data.shape[1]):\n",
    "        if pd.isna(data.iloc[i,j]):\n",
    "            #print('value in data.iloc['+str(i)+','+str(j)+'] is nan')\n",
    "            continue\n",
    "        SSEi=SSEi+(data.iloc[i,j]-MEAN[j])**2\n",
    "        npsE=npsE+1\n",
    "    SSE=SSE+SSEi\n",
    "npsE=npsE-data.shape[1] \n",
    "print('Value of SSE is {:.3f}'.format(SSE))\n",
    "print('Number of degrees of freedom E is {:.0f}'.format(npsE))\n",
    "\n",
    "#test\n",
    "print(SST==SSA+SSE)\n",
    "print(npsT==npsA+npsE)"
   ]
  },
  {
   "cell_type": "markdown",
   "metadata": {},
   "source": [
    "Calculating statistic F"
   ]
  },
  {
   "cell_type": "code",
   "execution_count": 4,
   "metadata": {},
   "outputs": [
    {
     "name": "stdout",
     "output_type": "stream",
     "text": [
      "Value of statistic F is 19.347\n",
      "Value of Fcrit is 3.127\n",
      "Actual risk for wrong decision if we reject the H0 is 5.336871767513962e-06\n",
      "F_onewayResult(statistic=19.34556613558783, pvalue=5.34001205240135e-06)\n"
     ]
    }
   ],
   "source": [
    "#sample variance\n",
    "MSA=SSA/npsA\n",
    "MSE=SSE/npsE\n",
    "#statisctic F\n",
    "F=MSA/MSE\n",
    "#nu1,nu2 (parameters of Fischer's distribution)\n",
    "nu1=npsA\n",
    "nu2=npsE\n",
    "\n",
    "print('Value of statistic F is {:.3f}'.format(F))\n",
    "\n",
    "Fcrit=f.ppf(1-alpha,nu1,nu2)\n",
    "print('Value of Fcrit is {:.3f}'.format(Fcrit))\n",
    "\n",
    "#actual risk for the rejection of the H0\n",
    "p_val=1-f.cdf(F,nu1,nu2)\n",
    "print('Actual risk for wrong decision if we reject the H0 is {}'.format(p_val))\n",
    "\n",
    "#ANOVA by built-in function\n",
    "print(f_oneway(data.iloc[:6,0],data.iloc[:6,1],data.iloc[:5,2],data.iloc[:6,3]))"
   ]
  },
  {
   "cell_type": "markdown",
   "metadata": {},
   "source": [
    "A small difference between statistic F, calculated manually and with built-in function can be observed. The same analysis (for the same data) was performed in the Excel manually and by built-in function and the same difference was observed. This difference, if sizes of the classes are the same, however disappears."
   ]
  },
  {
   "cell_type": "markdown",
   "metadata": {},
   "source": [
    "## Posteriori ANOVA"
   ]
  },
  {
   "cell_type": "markdown",
   "metadata": {},
   "source": [
    "In order to obtain which class is statistically different than other classes, we have to perform the posteriori ANOVA. The Bonferonni method that was used here, runs overall 6 t-tests for differences in means of all pairs so that the probability of making one or more type 1 errors over the 6 tests is not more than 5%."
   ]
  },
  {
   "cell_type": "code",
   "execution_count": 5,
   "metadata": {},
   "outputs": [
    {
     "name": "stdout",
     "output_type": "stream",
     "text": [
      "Number of t-tests to be performed is 6.\n",
      "Value of alpha for the individual t-tests according to the Bonferonni is 0.008333.\n",
      "Pairs for the t-test are [(0, 1), (0, 2), (0, 3), (1, 2), (1, 3), (2, 3)]\n",
      "pValues for individual pairs are [0.00575681541814036, 0.001086857975201461, 2.9931751105389414e-05, 0.4643492887698597, 0.0054139099705326045, 0.00846888844119131]\n",
      "Significantly different pairs according to Bonferonni are [(0, 1), (0, 2), (0, 3), (1, 3)]\n"
     ]
    },
    {
     "data": {
      "text/html": [
       "<div>\n",
       "<style scoped>\n",
       "    .dataframe tbody tr th:only-of-type {\n",
       "        vertical-align: middle;\n",
       "    }\n",
       "\n",
       "    .dataframe tbody tr th {\n",
       "        vertical-align: top;\n",
       "    }\n",
       "\n",
       "    .dataframe thead th {\n",
       "        text-align: right;\n",
       "    }\n",
       "</style>\n",
       "<table border=\"1\" class=\"dataframe\">\n",
       "  <thead>\n",
       "    <tr style=\"text-align: right;\">\n",
       "      <th></th>\n",
       "      <th>0</th>\n",
       "      <th>1</th>\n",
       "      <th>2</th>\n",
       "      <th>3</th>\n",
       "      <th>4</th>\n",
       "    </tr>\n",
       "  </thead>\n",
       "  <tbody>\n",
       "    <tr>\n",
       "      <th>0</th>\n",
       "      <td>0</td>\n",
       "      <td>3</td>\n",
       "      <td>2</td>\n",
       "      <td>1</td>\n",
       "      <td>0</td>\n",
       "    </tr>\n",
       "    <tr>\n",
       "      <th>1</th>\n",
       "      <td>3</td>\n",
       "      <td>0</td>\n",
       "      <td>0</td>\n",
       "      <td>1</td>\n",
       "      <td>1</td>\n",
       "    </tr>\n",
       "    <tr>\n",
       "      <th>2</th>\n",
       "      <td>2</td>\n",
       "      <td>0</td>\n",
       "      <td>0</td>\n",
       "      <td>0</td>\n",
       "      <td>1</td>\n",
       "    </tr>\n",
       "    <tr>\n",
       "      <th>3</th>\n",
       "      <td>1</td>\n",
       "      <td>1</td>\n",
       "      <td>0</td>\n",
       "      <td>0</td>\n",
       "      <td>1</td>\n",
       "    </tr>\n",
       "    <tr>\n",
       "      <th>4</th>\n",
       "      <td>0</td>\n",
       "      <td>1</td>\n",
       "      <td>1</td>\n",
       "      <td>1</td>\n",
       "      <td>0</td>\n",
       "    </tr>\n",
       "  </tbody>\n",
       "</table>\n",
       "</div>"
      ],
      "text/plain": [
       "   0  1  2  3  4\n",
       "0  0  3  2  1  0\n",
       "1  3  0  0  1  1\n",
       "2  2  0  0  0  1\n",
       "3  1  1  0  0  1\n",
       "4  0  1  1  1  0"
      ]
     },
     "metadata": {},
     "output_type": "display_data"
    }
   ],
   "source": [
    "nComp=binom(data.shape[1],2)\n",
    "alphaBonf=alpha/nComp\n",
    "\n",
    "print('Number of t-tests to be performed is {}.'.format(int(nComp)))\n",
    "print('Value of alpha for the individual t-tests according to the Bonferonni is {:.6f}.'.format(alphaBonf))\n",
    "\n",
    "combList=list(combinations(np.arange(0,data.shape[1],1), 2)) #list of combinations to be compared\n",
    "print('Pairs for the t-test are {}'.format(combList))\n",
    "\n",
    "pValList=[]\n",
    "signDiffPairsList=[]\n",
    "for i in range(data.shape[0]):\n",
    "    pValList.append(ttest_ind(data.iloc[:,combList[i][0]],data.iloc[:,combList[i][1]],equal_var=False,nan_policy='omit')[1])\n",
    "    if pValList[i]<=alphaBonf:\n",
    "        signDiffPairsList.append(combList[i])\n",
    "            \n",
    "print('pValues for individual pairs are {}'.format(pValList))\n",
    "print('Significantly different pairs according to Bonferonni are {}'.format(signDiffPairsList))\n",
    "\n",
    "BonfTable=np.zeros((data.shape[1]+2,data.shape[1]+2))\n",
    "BonfTable[2:,0]=sorted(MEAN,reverse=True)\n",
    "BonfTable[0,2:]=sorted(MEAN,reverse=True)\n",
    "BonfTable[2:,1]=np.argsort(-MEAN)\n",
    "BonfTable[1,2:]=np.argsort(-MEAN)\n",
    "\n",
    "for i in range(2,BonfTable.shape[0]):\n",
    "    for j in range(2,BonfTable.shape[1]):\n",
    "        for k in range(len(signDiffPairsList)):\n",
    "            if signDiffPairsList[k]==(BonfTable[i,1],BonfTable[1,j]):\n",
    "                BonfTable[i,j]=1\n",
    "            elif signDiffPairsList[k]==(BonfTable[1,j],BonfTable[i,1]):\n",
    "                BonfTable[i,j]=1\n",
    "                \n",
    "display(pd.DataFrame(BonfTable[1:,1:].astype(int)))"
   ]
  },
  {
   "cell_type": "markdown",
   "metadata": {},
   "source": [
    "It can be seen from the matrix above that class 2 (15%) is in two groups; it is common with class 3 (20%) and with class 1(10%)."
   ]
  }
 ],
 "metadata": {
  "kernelspec": {
   "display_name": "Python 3",
   "language": "python",
   "name": "python3"
  },
  "language_info": {
   "codemirror_mode": {
    "name": "ipython",
    "version": 3
   },
   "file_extension": ".py",
   "mimetype": "text/x-python",
   "name": "python",
   "nbconvert_exporter": "python",
   "pygments_lexer": "ipython3",
   "version": "3.7.6"
  }
 },
 "nbformat": 4,
 "nbformat_minor": 4
}
