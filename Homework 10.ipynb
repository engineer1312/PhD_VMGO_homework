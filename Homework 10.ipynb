{
 "cells": [
  {
   "cell_type": "markdown",
   "metadata": {},
   "source": [
    "# Nested design - ANOVA"
   ]
  },
  {
   "cell_type": "markdown",
   "metadata": {},
   "source": [
    "Initial commands"
   ]
  },
  {
   "cell_type": "code",
   "execution_count": 1,
   "metadata": {},
   "outputs": [],
   "source": [
    "import pandas as pd\n",
    "import numpy as np\n",
    "import matplotlib.pyplot as plt\n",
    "from IPython.display import set_matplotlib_formats\n",
    "set_matplotlib_formats('png', 'pdf') #setting figure format to vector when exported\n",
    "plt.rcParams['font.family'] = 'Times New Roman'\n",
    "plt.rcParams['text.usetex'] = True\n",
    "from scipy.stats import f"
   ]
  },
  {
   "cell_type": "markdown",
   "metadata": {},
   "source": [
    "Reading data"
   ]
  },
  {
   "cell_type": "code",
   "execution_count": 2,
   "metadata": {},
   "outputs": [
    {
     "data": {
      "text/html": [
       "<div>\n",
       "<style scoped>\n",
       "    .dataframe tbody tr th:only-of-type {\n",
       "        vertical-align: middle;\n",
       "    }\n",
       "\n",
       "    .dataframe tbody tr th {\n",
       "        vertical-align: top;\n",
       "    }\n",
       "\n",
       "    .dataframe thead th {\n",
       "        text-align: right;\n",
       "    }\n",
       "</style>\n",
       "<table border=\"1\" class=\"dataframe\">\n",
       "  <thead>\n",
       "    <tr style=\"text-align: right;\">\n",
       "      <th></th>\n",
       "      <th>A1</th>\n",
       "      <th>A2</th>\n",
       "      <th>A3</th>\n",
       "      <th>B1</th>\n",
       "      <th>B2</th>\n",
       "      <th>B3</th>\n",
       "    </tr>\n",
       "  </thead>\n",
       "  <tbody>\n",
       "    <tr>\n",
       "      <th>0</th>\n",
       "      <td>1.1190</td>\n",
       "      <td>1.0450</td>\n",
       "      <td>0.9873</td>\n",
       "      <td>1.3883</td>\n",
       "      <td>1.3952</td>\n",
       "      <td>1.2574</td>\n",
       "    </tr>\n",
       "    <tr>\n",
       "      <th>1</th>\n",
       "      <td>1.2996</td>\n",
       "      <td>1.1418</td>\n",
       "      <td>0.9873</td>\n",
       "      <td>1.1040</td>\n",
       "      <td>0.9714</td>\n",
       "      <td>1.0295</td>\n",
       "    </tr>\n",
       "    <tr>\n",
       "      <th>2</th>\n",
       "      <td>1.5407</td>\n",
       "      <td>1.2569</td>\n",
       "      <td>0.8714</td>\n",
       "      <td>1.1581</td>\n",
       "      <td>1.3972</td>\n",
       "      <td>1.1941</td>\n",
       "    </tr>\n",
       "    <tr>\n",
       "      <th>3</th>\n",
       "      <td>1.5084</td>\n",
       "      <td>0.6191</td>\n",
       "      <td>0.9452</td>\n",
       "      <td>1.3190</td>\n",
       "      <td>1.5369</td>\n",
       "      <td>1.0759</td>\n",
       "    </tr>\n",
       "    <tr>\n",
       "      <th>4</th>\n",
       "      <td>1.6181</td>\n",
       "      <td>1.4823</td>\n",
       "      <td>1.1186</td>\n",
       "      <td>1.1803</td>\n",
       "      <td>1.3727</td>\n",
       "      <td>1.3249</td>\n",
       "    </tr>\n",
       "    <tr>\n",
       "      <th>5</th>\n",
       "      <td>1.5962</td>\n",
       "      <td>0.8991</td>\n",
       "      <td>1.2909</td>\n",
       "      <td>0.8738</td>\n",
       "      <td>1.2909</td>\n",
       "      <td>0.9494</td>\n",
       "    </tr>\n",
       "    <tr>\n",
       "      <th>6</th>\n",
       "      <td>1.2617</td>\n",
       "      <td>0.8365</td>\n",
       "      <td>1.1502</td>\n",
       "      <td>1.3870</td>\n",
       "      <td>1.1874</td>\n",
       "      <td>1.1041</td>\n",
       "    </tr>\n",
       "    <tr>\n",
       "      <th>7</th>\n",
       "      <td>1.2288</td>\n",
       "      <td>1.2898</td>\n",
       "      <td>1.1635</td>\n",
       "      <td>1.3010</td>\n",
       "      <td>1.1374</td>\n",
       "      <td>1.1575</td>\n",
       "    </tr>\n",
       "    <tr>\n",
       "      <th>8</th>\n",
       "      <td>1.3471</td>\n",
       "      <td>1.1821</td>\n",
       "      <td>1.1510</td>\n",
       "      <td>1.3925</td>\n",
       "      <td>1.0647</td>\n",
       "      <td>1.2940</td>\n",
       "    </tr>\n",
       "    <tr>\n",
       "      <th>9</th>\n",
       "      <td>1.0206</td>\n",
       "      <td>0.9177</td>\n",
       "      <td>0.9367</td>\n",
       "      <td>1.0832</td>\n",
       "      <td>0.9486</td>\n",
       "      <td>1.4543</td>\n",
       "    </tr>\n",
       "  </tbody>\n",
       "</table>\n",
       "</div>"
      ],
      "text/plain": [
       "       A1      A2      A3      B1      B2      B3\n",
       "0  1.1190  1.0450  0.9873  1.3883  1.3952  1.2574\n",
       "1  1.2996  1.1418  0.9873  1.1040  0.9714  1.0295\n",
       "2  1.5407  1.2569  0.8714  1.1581  1.3972  1.1941\n",
       "3  1.5084  0.6191  0.9452  1.3190  1.5369  1.0759\n",
       "4  1.6181  1.4823  1.1186  1.1803  1.3727  1.3249\n",
       "5  1.5962  0.8991  1.2909  0.8738  1.2909  0.9494\n",
       "6  1.2617  0.8365  1.1502  1.3870  1.1874  1.1041\n",
       "7  1.2288  1.2898  1.1635  1.3010  1.1374  1.1575\n",
       "8  1.3471  1.1821  1.1510  1.3925  1.0647  1.2940\n",
       "9  1.0206  0.9177  0.9367  1.0832  0.9486  1.4543"
      ]
     },
     "metadata": {},
     "output_type": "display_data"
    }
   ],
   "source": [
    "data=pd.read_excel('ANOVA_nested.xlsx')\n",
    "display(data)\n",
    "alpha=0.01 #significance level\n",
    "a=2 #number of technicians (for i=1,..,a)\n",
    "b=3 #number of rats per technician (for j=1,..,b)\n",
    "n=10 #number of measurements per each rat (for k=1,...,n)"
   ]
  },
  {
   "cell_type": "markdown",
   "metadata": {},
   "source": [
    "Hypothesis:\n",
    "\n",
    "H0_A: Protein intake in the livers of experimental rats does not depend on the person performing the experiments.\n",
    "\n",
    "H1_A: Protein intake in the livers of experimental rats depends on the person performing the experiments.\n",
    "\n",
    "H0_B: Protein intake in the livers of experimental rats does not depend on the rat, the measurement of which were taken by selected technician.\n",
    "\n",
    "H1_B: Protein intake in the livers of experimental rats depends on the rat, the measurement of which were taken by selected technician."
   ]
  },
  {
   "cell_type": "code",
   "execution_count": 3,
   "metadata": {},
   "outputs": [
    {
     "data": {
      "text/html": [
       "<div>\n",
       "<style scoped>\n",
       "    .dataframe tbody tr th:only-of-type {\n",
       "        vertical-align: middle;\n",
       "    }\n",
       "\n",
       "    .dataframe tbody tr th {\n",
       "        vertical-align: top;\n",
       "    }\n",
       "\n",
       "    .dataframe thead th {\n",
       "        text-align: right;\n",
       "    }\n",
       "</style>\n",
       "<table border=\"1\" class=\"dataframe\">\n",
       "  <thead>\n",
       "    <tr style=\"text-align: right;\">\n",
       "      <th></th>\n",
       "      <th>Yij_</th>\n",
       "    </tr>\n",
       "  </thead>\n",
       "  <tbody>\n",
       "    <tr>\n",
       "      <th>A1</th>\n",
       "      <td>1.35402</td>\n",
       "    </tr>\n",
       "    <tr>\n",
       "      <th>A2</th>\n",
       "      <td>1.06703</td>\n",
       "    </tr>\n",
       "    <tr>\n",
       "      <th>A3</th>\n",
       "      <td>1.06021</td>\n",
       "    </tr>\n",
       "    <tr>\n",
       "      <th>B1</th>\n",
       "      <td>1.21872</td>\n",
       "    </tr>\n",
       "    <tr>\n",
       "      <th>B2</th>\n",
       "      <td>1.23024</td>\n",
       "    </tr>\n",
       "    <tr>\n",
       "      <th>B3</th>\n",
       "      <td>1.18411</td>\n",
       "    </tr>\n",
       "  </tbody>\n",
       "</table>\n",
       "</div>"
      ],
      "text/plain": [
       "       Yij_\n",
       "A1  1.35402\n",
       "A2  1.06703\n",
       "A3  1.06021\n",
       "B1  1.21872\n",
       "B2  1.23024\n",
       "B3  1.18411"
      ]
     },
     "metadata": {},
     "output_type": "display_data"
    },
    {
     "data": {
      "text/html": [
       "<div>\n",
       "<style scoped>\n",
       "    .dataframe tbody tr th:only-of-type {\n",
       "        vertical-align: middle;\n",
       "    }\n",
       "\n",
       "    .dataframe tbody tr th {\n",
       "        vertical-align: top;\n",
       "    }\n",
       "\n",
       "    .dataframe thead th {\n",
       "        text-align: right;\n",
       "    }\n",
       "</style>\n",
       "<table border=\"1\" class=\"dataframe\">\n",
       "  <thead>\n",
       "    <tr style=\"text-align: right;\">\n",
       "      <th></th>\n",
       "      <th>Yi_</th>\n",
       "    </tr>\n",
       "  </thead>\n",
       "  <tbody>\n",
       "    <tr>\n",
       "      <th>0</th>\n",
       "      <td>1.160420</td>\n",
       "    </tr>\n",
       "    <tr>\n",
       "      <th>0</th>\n",
       "      <td>1.211023</td>\n",
       "    </tr>\n",
       "  </tbody>\n",
       "</table>\n",
       "</div>"
      ],
      "text/plain": [
       "        Yi_\n",
       "0  1.160420\n",
       "0  1.211023"
      ]
     },
     "metadata": {},
     "output_type": "display_data"
    },
    {
     "name": "stdout",
     "output_type": "stream",
     "text": [
      "Average Y_ is 1.186\n"
     ]
    }
   ],
   "source": [
    "MEAN_Yij=data.mean()\n",
    "MEAN_Yi=pd.concat([pd.Series((MEAN_Yij.iloc[:b]).mean()),pd.Series((MEAN_Yij.iloc[b:2*b]).mean())])\n",
    "Y_=data.mean().mean()\n",
    "display(pd.DataFrame(MEAN_Yij,columns=['Yij_']))\n",
    "display(pd.DataFrame(MEAN_Yi,columns=['Yi_']))\n",
    "print('Average Y_ is {:.3f}'.format(Y_))"
   ]
  },
  {
   "cell_type": "markdown",
   "metadata": {},
   "source": [
    "Calculating sum of squares"
   ]
  },
  {
   "cell_type": "code",
   "execution_count": 4,
   "metadata": {},
   "outputs": [
    {
     "name": "stdout",
     "output_type": "stream",
     "text": [
      "Value of SST is 2.558\n",
      "Number of degrees of freedom T is 59\n",
      "Value of SSA is 0.038\n",
      "Number of degrees of freedom A is 1\n",
      "Value of SSB_A is 0.574\n",
      "Number of degrees of freedom B_A is 4\n",
      "Value of SSE is 1.946\n",
      "Number of degrees of freedom E is 54\n",
      "4.440892098500626e-16\n",
      "True\n"
     ]
    }
   ],
   "source": [
    "#total sum of squares\n",
    "SST=0\n",
    "npsT=0\n",
    "for i in range(a):\n",
    "    for j in range(b):\n",
    "        for k in range(n):\n",
    "            SST=SST+(data.iloc[k,i*b+j]-Y_)**2\n",
    "            npsT=npsT+1\n",
    "npsT=npsT-1\n",
    "\n",
    "print('Value of SST is {:.3f}'.format(SST))\n",
    "print('Number of degrees of freedom T is {:.0f}'.format(npsT))\n",
    "\n",
    "#sum of squares due to factor A (Brad vs. Janet)\n",
    "SSA=0\n",
    "npsA=0\n",
    "for i in range(a):\n",
    "    for j in range(b):\n",
    "        for k in range(n):\n",
    "            SSA=SSA+(MEAN_Yi.iloc[i]-Y_)**2\n",
    "    npsA=npsA+1\n",
    "npsA=npsA-1\n",
    "\n",
    "print('Value of SSA is {:.3f}'.format(SSA))\n",
    "print('Number of degrees of freedom A is {:.0f}'.format(npsA))\n",
    "\n",
    "#sum of squares due to factor B, which is nested in factor A\n",
    "SSB_A=0\n",
    "npsB_A=0\n",
    "for i in range(a):\n",
    "    for j in range(b):\n",
    "        for k in range(n):\n",
    "            SSB_A=SSB_A+(MEAN_Yij.iloc[i*b+j]-MEAN_Yi.iloc[i])**2\n",
    "        npsB_A=npsB_A+1\n",
    "npsB_A=npsB_A-a\n",
    "\n",
    "print('Value of SSB_A is {:.3f}'.format(SSB_A))\n",
    "print('Number of degrees of freedom B_A is {:.0f}'.format(npsB_A))\n",
    "\n",
    "#sum of squares due to radnomness\n",
    "SSE=0\n",
    "npsE=0\n",
    "for i in range(a):\n",
    "    for j in range(b):\n",
    "        for k in range(n):\n",
    "            SSE=SSE+(data.iloc[k,i*b+j]-MEAN_Yij.iloc[i*b+j])**2\n",
    "            npsE=npsE+1\n",
    "npsE=npsE-a*b\n",
    "\n",
    "print('Value of SSE is {:.3f}'.format(SSE))\n",
    "print('Number of degrees of freedom E is {:.0f}'.format(npsE))\n",
    "\n",
    "#test\n",
    "print(SST-(SSA+SSB_A+SSE))\n",
    "print(npsT==npsA+npsB_A+npsE)"
   ]
  },
  {
   "cell_type": "markdown",
   "metadata": {},
   "source": [
    "Calculating statistic FA and FB"
   ]
  },
  {
   "cell_type": "code",
   "execution_count": 5,
   "metadata": {},
   "outputs": [
    {
     "name": "stdout",
     "output_type": "stream",
     "text": [
      "Value of statistic FA is 1.066\n",
      "Value of statistic FB_A is 3.982\n",
      "Value of FcritA is 7.129\n",
      "Value of FcritB_A is 3.688\n",
      "Actual risk for wrong decision if we accept the H1_A (FA) is 0.306487\n",
      "Actual risk for wrong decision if we accept the H1_B (FB_A) is 0.006660\n"
     ]
    }
   ],
   "source": [
    "#sample variance\n",
    "MSA=SSA/npsA\n",
    "MSB_A=SSB_A/npsB_A\n",
    "MSE=SSE/npsE\n",
    "\n",
    "#statisctics FA and FB\n",
    "FA=MSA/MSE\n",
    "FB_A=MSB_A/MSE\n",
    "#nu1,nu2 (parameters of Fischer's distribution)\n",
    "nu1_A=npsA\n",
    "nu1_B_A=npsB_A\n",
    "nu2=npsE\n",
    "\n",
    "print('Value of statistic FA is {:.3f}'.format(FA))\n",
    "print('Value of statistic FB_A is {:.3f}'.format(FB_A))\n",
    "\n",
    "FcritA=f.ppf(1-alpha,nu1_A,nu2)\n",
    "print('Value of FcritA is {:.3f}'.format(FcritA))\n",
    "\n",
    "FcritB_A=f.ppf(1-alpha,nu1_B_A,nu2)\n",
    "print('Value of FcritB_A is {:.3f}'.format(FcritB_A))\n",
    "\n",
    "#actual risk for the rejection of the H0 (FA)\n",
    "p_valA=1-f.cdf(FA,nu1_A,nu2)\n",
    "print('Actual risk for wrong decision if we accept the H1_A (FA) is {:.6f}'.format(p_valA))\n",
    "\n",
    "#actual risk for the rejection of the H0 (FB_A)\n",
    "p_valB_A=1-f.cdf(FB_A,nu1_B_A,nu2)\n",
    "print('Actual risk for wrong decision if we accept the H1_B (FB_A) is {:.6f}'.format(p_valB_A))"
   ]
  },
  {
   "cell_type": "markdown",
   "metadata": {},
   "source": [
    "Since p value for the first hypothesis (FA) is higher than significance level 1%, we can not claim that protein intake in the livers of experimental rats depends on the person performing the experiments. Furthermore, with risk value of 30,65 % we can not claim that protein intake in the livers of experimental rats depends on the prson performing the experiments.\n",
    "\n",
    "Since p value for the second hypothesis (FB_A) is smaller than significance level 1%, we can say that protein intake in the livers of experimental rats depends on the rat, the measurement of which were taken by selected technician. Actual risk for wrong decision if we accept the second alternative hypothesis is even lower; it is 0.66 %."
   ]
  }
 ],
 "metadata": {
  "kernelspec": {
   "display_name": "Python 3",
   "language": "python",
   "name": "python3"
  },
  "language_info": {
   "codemirror_mode": {
    "name": "ipython",
    "version": 3
   },
   "file_extension": ".py",
   "mimetype": "text/x-python",
   "name": "python",
   "nbconvert_exporter": "python",
   "pygments_lexer": "ipython3",
   "version": "3.7.6"
  }
 },
 "nbformat": 4,
 "nbformat_minor": 4
}
